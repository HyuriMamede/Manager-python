{
 "cells": [
  {
   "cell_type": "code",
   "execution_count": 4,
   "metadata": {},
   "outputs": [],
   "source": [
    "import hashlib\n",
    "import pandas as pd\n",
    "\n",
    "class GerenciadorSenha:\n",
    "    def __init__(self):\n",
    "        self.senhas = pd.DataFrame(columns=['ID', 'IP', 'Senha'])\n",
    "\n",
    "    def adicionar_senha(self, id, ip, senha):\n",
    "        #senha_hash = hashlib.sha256(senha.encode()).hexdigest()\n",
    "        new_df = pd.DataFrame([[id, ip, senha]], columns=['ID', 'IP', 'Senha'])\n",
    "        self.senhas = pd.concat([self.senhas, new_df], ignore_index=True)\n",
    "\n",
    "    def consultar_senha(self):\n",
    "        return self.senhas\n",
    "\n"
   ]
  },
  {
   "cell_type": "code",
   "execution_count": null,
   "metadata": {},
   "outputs": [],
   "source": [
    "def main():\n",
    "    gerenciador = GerenciadorSenha()\n",
    "\n",
    "    gerenciador.adicionar_senha(18007511, '192.168.1.1', 'minhasenha')\n",
    "    gerenciador.adicionar_senha(18007512, '192.168.1.2', 'outrasenha')\n",
    "\n",
    "    #id_usuario = 18007511\n",
    "    #resultado_consulta = gerenciador.consultar_senha(id_usuario)\n",
    "    #print(resultado_consulta)\n",
    "\n",
    "if __name__ == \"__main__\":\n",
    "    main()"
   ]
  }
 ],
 "metadata": {
  "kernelspec": {
   "display_name": "Python 3",
   "language": "python",
   "name": "python3"
  },
  "language_info": {
   "codemirror_mode": {
    "name": "ipython",
    "version": 3
   },
   "file_extension": ".py",
   "mimetype": "text/x-python",
   "name": "python",
   "nbconvert_exporter": "python",
   "pygments_lexer": "ipython3",
   "version": "3.11.6"
  }
 },
 "nbformat": 4,
 "nbformat_minor": 2
}
